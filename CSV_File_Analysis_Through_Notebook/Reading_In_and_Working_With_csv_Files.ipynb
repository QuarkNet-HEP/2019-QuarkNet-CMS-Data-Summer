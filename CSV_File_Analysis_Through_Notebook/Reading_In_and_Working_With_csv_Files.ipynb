{
 "cells": [
  {
   "cell_type": "markdown",
   "metadata": {},
   "source": [
    "To be able to work with the .csv data sets, we have to first read the data sets into the code environment.  It's also a good idea to print a few lines of data to make sure they look like they should."
   ]
  },
  {
   "cell_type": "markdown",
   "metadata": {},
   "source": [
    "There are many ways to read .csv files into Python.  They have their own advantages and disadvantages, but all will do the job.  If you continue on to looking at other instructional materials involving CMS data from .csv files (or other Python programs involving .csv files), you may see a different approach!"
   ]
  },
  {
   "cell_type": "markdown",
   "metadata": {},
   "source": [
    "This first code block shows (in general) how to read our file into Python and then prints each row as its own list.  Note that when you run this, it will take a while because there is a lot of data to work with.  Don't worry about examining all the lines this prints out, this is just to show that the code works.\n",
    "\n",
    "As an aside, you can verify that the first printed line of data is the same as the line we input in the previous exercise."
   ]
  },
  {
   "cell_type": "code",
   "execution_count": null,
   "metadata": {
    "scrolled": true
   },
   "outputs": [],
   "source": [
    "import csv\n",
    "\n",
    "with open('dimuon.csv') as csvfile:\n",
    "    READdimu = csv.reader(csvfile, delimiter = ',')\n",
    "    for row in READdimu:\n",
    "        print (row)"
   ]
  },
  {
   "cell_type": "markdown",
   "metadata": {},
   "source": [
    "Now that we can get the data into Python, we need to be able to do things with it.  We'll start with getting and printing just one of the data per line.  We'll make things easier for us in the future (if not shorter now) by using the same kind of structure to let us call for things by name rather than index number.\n",
    "\n",
    "If you want to verify that you are indeed getting the actual data, just check the first few lines of output.  You'll find that they match with the last entry for each printed row above."
   ]
  },
  {
   "cell_type": "code",
   "execution_count": null,
   "metadata": {},
   "outputs": [],
   "source": [
    "# equating data labels to numbers for indexing\n",
    "Type = 0\n",
    "RunNo = 1\n",
    "EvNo = 2\n",
    "E1 = 3\n",
    "px1 = 4\n",
    "py1 = 5\n",
    "pz1 = 6\n",
    "pt1 = 7\n",
    "eta1 = 8\n",
    "phi1 = 9\n",
    "Q1 = 10\n",
    "E2 = 11\n",
    "px2 = 12\n",
    "py2 = 13\n",
    "pz2 = 14\n",
    "pt2 = 15\n",
    "eta2 = 16\n",
    "phi2 = 17\n",
    "Q2 = 18\n",
    "M = 19\n",
    "\n",
    "# reading in .csv file\n",
    "with open('dimuon.csv') as csvfile:\n",
    "    READdimu = csv.reader(csvfile, delimiter = ',')\n",
    "    \n",
    "    # printing just the total mass for each event\n",
    "    for row in READdimu:\n",
    "        print (row[M])"
   ]
  },
  {
   "cell_type": "markdown",
   "metadata": {},
   "source": [
    "Note that this does not skip printing the label for the data.  If you want to do this, you can instead run the following code.  Note that row is a list, so we have to set a row counter as an integer to compare to!\n",
    "\n",
    "Also note that we don't include the code setting the labels to index values.  If we've already run the code block with that code, we don't need to run it again."
   ]
  },
  {
   "cell_type": "code",
   "execution_count": null,
   "metadata": {},
   "outputs": [],
   "source": [
    "with open('dimuon.csv') as csvfile:\n",
    "    READdimu = csv.reader(csvfile, delimiter = ',')\n",
    "    \n",
    "    # printing just the total mass for each event\n",
    "    rowcount = 0\n",
    "    for row in READdimu:\n",
    "        if rowcount > 0:           \n",
    "            print (row[M])\n",
    "        rowcount = rowcount + 1"
   ]
  },
  {
   "cell_type": "markdown",
   "metadata": {},
   "source": [
    "If you look back as where we first printed the data, you can see there's a little hitch with this method of reading in the .csv file: the data are being read in not as numbers but as strings!  To fix this we can either use another method of reading in the .csv file or change all the data we want to work with to floating point numbers as we call them.  The later is shown in the code below."
   ]
  },
  {
   "cell_type": "code",
   "execution_count": null,
   "metadata": {},
   "outputs": [],
   "source": [
    "with open('dimuon.csv') as csvfile:\n",
    "    READdimu = csv.reader(csvfile, delimiter = ',')\n",
    "    \n",
    "    rowcount = 0\n",
    "    for row in READdimu:\n",
    "        if rowcount > 0:\n",
    "            p1 = ((float(row[px1]) ** 2) + (float(row[py1]) ** 2) + (float(row[pz1]) ** 2)) ** 0.5\n",
    "            print (p1)\n",
    "        rowcount = rowcount + 1"
   ]
  },
  {
   "cell_type": "markdown",
   "metadata": {},
   "source": [
    "Here's another example."
   ]
  },
  {
   "cell_type": "code",
   "execution_count": null,
   "metadata": {},
   "outputs": [],
   "source": [
    "with open('dimuon.csv') as csvfile:\n",
    "    READdimu = csv.reader(csvfile, delimiter = ',')\n",
    "    \n",
    "    rowcount = 0\n",
    "    for row in READdimu:\n",
    "        if rowcount > 0:\n",
    "            px = float(row[px1]) + float(row[px2])\n",
    "            py = float(row[py1]) + float(row[py2])\n",
    "            pz = float(row[pz1]) + float(row[pz2])\n",
    "            ptot = ((px**2) + (py**2) + (pz**2))**0.5\n",
    "            print(ptot)\n",
    "        rowcount = rowcount + 1"
   ]
  },
  {
   "cell_type": "markdown",
   "metadata": {},
   "source": [
    "Again, you can try any manipulations you want in the code box below.  As a suggestion, try anything you did in the previous exercise here, but on the whole data set."
   ]
  },
  {
   "cell_type": "code",
   "execution_count": null,
   "metadata": {},
   "outputs": [],
   "source": [
    "# Type your own code here!"
   ]
  }
 ],
 "metadata": {
  "kernelspec": {
   "display_name": "Python 3",
   "language": "python",
   "name": "python3"
  },
  "language_info": {
   "codemirror_mode": {
    "name": "ipython",
    "version": 3
   },
   "file_extension": ".py",
   "mimetype": "text/x-python",
   "name": "python",
   "nbconvert_exporter": "python",
   "pygments_lexer": "ipython3",
   "version": "3.7.3"
  }
 },
 "nbformat": 4,
 "nbformat_minor": 2
}
