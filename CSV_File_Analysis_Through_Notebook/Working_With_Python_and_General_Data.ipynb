{
 "cells": [
  {
   "cell_type": "markdown",
   "metadata": {},
   "source": [
    "In order to work with Python and .csv data files, we should first learn how some basic things work in Python.\n",
    "\n",
    "The code box below contains the first data line of the 100k dimuon set read into Python as a construct called a \"tuple.\"  Effectively, a tuple is a kind of comma separated entry like a list.  This isn't a proper \"list\" in Python: a list can have items added or taken away from it while a tuple cannot.  This keeps us from accidentally messing up our data while we work with it.\n",
    "\n",
    "The data in the code box is the following:\n",
    "Type, RunNo, EvNo, E1, px1, py1, pz1, pt1, eta1, phi1, Q1, E2, px2, py2, pz2, pt2, eta2, phi2, Q2, M"
   ]
  },
  {
   "cell_type": "code",
   "execution_count": null,
   "metadata": {},
   "outputs": [],
   "source": [
    "data_line_1 = (\"GT\", 146511, 25343052, 7.3339, 2.06042, 5.8858, -3.85836, 6.23602, -0.584812, 1.23406, -1, 5.20755, -1.55016, -1.81976, 4.62525, 2.3905, 1.41411, -2.27636, 1, 11.8282)"
   ]
  },
  {
   "cell_type": "markdown",
   "metadata": {},
   "source": [
    "As a quick note, observe that there are no comment lines in many of the code boxes here.  This is unusual for code.  Most of the things that would normally be comment lines are in the text boxes.  This means that the comments have been eliminated when possible to prevent redundancy."
   ]
  },
  {
   "cell_type": "markdown",
   "metadata": {},
   "source": [
    "To work with data in a tuple, we need to have the number of where the data is in the tuple, starting our numbering with zero.  To keep us from having to count, we can use the labels for the data as variables and set them equal to the data's position in the tuple."
   ]
  },
  {
   "cell_type": "code",
   "execution_count": null,
   "metadata": {},
   "outputs": [],
   "source": [
    "Type = 0\n",
    "RunNo = 1\n",
    "EvNo = 2\n",
    "E1 = 3\n",
    "px1 = 4\n",
    "py1 = 5\n",
    "pz1 = 6\n",
    "pt1 = 7\n",
    "eta1 = 8\n",
    "phi1 = 9\n",
    "Q1 = 10\n",
    "E2 = 11\n",
    "px2 = 12\n",
    "py2 = 13\n",
    "pz2 = 14\n",
    "pt2 = 15\n",
    "eta2 = 16\n",
    "phi2 = 17\n",
    "Q2 = 18\n",
    "M = 19"
   ]
  },
  {
   "cell_type": "markdown",
   "metadata": {},
   "source": [
    "This allows us to use any part of the tuple by putting the name of the variable in square brackets rather than having to know the number of the place in the tuple.\n",
    "\n",
    "For example, the following line will allow us to print any individual piece of data by putting the desired variable in the square brackets.  It is set up to start out printing the event number (EvNo)"
   ]
  },
  {
   "cell_type": "code",
   "execution_count": null,
   "metadata": {},
   "outputs": [],
   "source": [
    "print (data_line_1[EvNo])"
   ]
  },
  {
   "cell_type": "markdown",
   "metadata": {},
   "source": [
    "Now we can start working with the data.  For example, if we want the total momentum of the first muon, we can use the following code."
   ]
  },
  {
   "cell_type": "code",
   "execution_count": null,
   "metadata": {},
   "outputs": [],
   "source": [
    "p1 = ((data_line_1[px1] ** 2) + (data_line_1[py1] ** 2) + (data_line_1[pz1] ** 2)) ** 0.5\n",
    "print (p1)"
   ]
  },
  {
   "cell_type": "markdown",
   "metadata": {},
   "source": [
    "Note that the doubled stars mean \"to the power of\" in Python."
   ]
  },
  {
   "cell_type": "markdown",
   "metadata": {},
   "source": [
    "If we want to find the total momentum of muon 1 and muon 2, we can use the following."
   ]
  },
  {
   "cell_type": "code",
   "execution_count": null,
   "metadata": {},
   "outputs": [],
   "source": [
    "px = data_line_1[px1] + data_line_1[px2]\n",
    "py = data_line_1[py1] + data_line_1[py2]\n",
    "pz = data_line_1[pz1] + data_line_1[pz2]\n",
    "ptot = ((px**2) + (py**2) + (pz**2))**0.5\n",
    "print(ptot)"
   ]
  },
  {
   "cell_type": "markdown",
   "metadata": {},
   "source": [
    "Note that it is sometimes better to do parts of the calculations separately (in this case, adding vector components and then adding them via the Pythagorean theorem) than it is to do it all at once.  It allows for easier comprehension of the code."
   ]
  },
  {
   "cell_type": "markdown",
   "metadata": {},
   "source": [
    "You can do any trial manipulations of the data that you wish in the code box below.  You may want to try calculations with this single line of data before you try it in all the data with the full data file."
   ]
  },
  {
   "cell_type": "code",
   "execution_count": null,
   "metadata": {},
   "outputs": [],
   "source": [
    "# Type your own code here!"
   ]
  }
 ],
 "metadata": {
  "kernelspec": {
   "display_name": "Python 3",
   "language": "python",
   "name": "python3"
  },
  "language_info": {
   "codemirror_mode": {
    "name": "ipython",
    "version": 3
   },
   "file_extension": ".py",
   "mimetype": "text/x-python",
   "name": "python",
   "nbconvert_exporter": "python",
   "pygments_lexer": "ipython3",
   "version": "3.7.3"
  }
 },
 "nbformat": 4,
 "nbformat_minor": 2
}
