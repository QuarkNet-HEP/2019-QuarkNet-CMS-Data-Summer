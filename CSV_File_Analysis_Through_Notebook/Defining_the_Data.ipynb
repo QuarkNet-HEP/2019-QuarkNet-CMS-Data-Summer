{
 "cells": [
  {
   "cell_type": "markdown",
   "metadata": {},
   "source": [
    "A crucial piece in working with the data in the .csv files is knowing what each of the columns represent.  This notebook will go through each of those columns."
   ]
  },
  {
   "cell_type": "markdown",
   "metadata": {},
   "source": [
    "There are 20 columns in the .csv file data:\n",
    "Type\n",
    "RunNo\n",
    "EvNo\n",
    "E1\n",
    "px1\n",
    "py1\n",
    "pz1\n",
    "pt1\n",
    "eta1\n",
    "phi1\n",
    "Q1\n",
    "E2\n",
    "px2\n",
    "py2\n",
    "pz2\n",
    "pt2\n",
    "eta2\n",
    "phi2\n",
    "Q2\n",
    "M\n",
    "\n",
    "Note that some of these are similar.  This is because this data set has data about two muons, so data containing \"1\" pertain to the first muon and those containing \"2\" to the second.  Which muon in a pair is \"1\" and which is \"2\" has no significant meaning for analysis purposes."
   ]
  },
  {
   "cell_type": "markdown",
   "metadata": {},
   "source": [
    "\"Type\" data is a record of where the muon was detected.  There are two letters in this data, one for each of the muons in the row.  A \"T\" indicates a \"tracker\" muon, one that was recorded only in the central tracker portion of the detector.  These sometimes even include particles that aren't actually muons but mimic them.  They're often considered to be less reliable.  A \"G\" indicates a \"global\" muon, one that was recorded in the tracker and in the outer muon system.  These are often considered to be more reliable.\n",
    "\n",
    "\"Type\" data is useful if you want to make sure that you are eliminating less reliable muon data from your analysis."
   ]
  },
  {
   "cell_type": "markdown",
   "metadata": {},
   "source": [
    "\"RunNo\" indicates which run of the LHC the data was from.  It is used for indexing purposes.  It is a way to find information (from sources at CERN) about the precise conditions of the collider at the time.  It is unlikely to be necessary with the data we have here to work with."
   ]
  },
  {
   "cell_type": "markdown",
   "metadata": {},
   "source": [
    "\"EvNo\" refers to the event number recorded for the event that produced the dimuon data.  An \"event\" refers to a set of things measured by the CMS detector that meet certain conditions scientists have set for being interesting enough to keep data about.  There are other variables that are likely to have been recorded for this event and having the event number makes it possible to find that from the original data set.  The likelyhood that you will need to do this is very small.  For our purposes, event number data is much like the run number: a way of indexing the collision."
   ]
  },
  {
   "cell_type": "markdown",
   "metadata": {},
   "source": [
    "\"E1\" and \"E2\" are the energies of the two muons."
   ]
  },
  {
   "cell_type": "markdown",
   "metadata": {},
   "source": [
    "\"px1,\" \"px2,\" \"py1,\" \"py2,\" \"pz1,\" and \"pz2\" are the momentum components of the muons in the frame of reference of the detector (often refered to as the \"lab frame\").  Particles in the collider move at speeds close enough to the speed of light that they experience significant relativistic effects, so we specify the frame of reference for some of our measurements.  If we want to find the magnitude of the total momentum, we need to remember to add the components as vectors."
   ]
  },
  {
   "cell_type": "markdown",
   "metadata": {},
   "source": [
    "\"pt1\" and \"pt2\" are the transverse momenta of the two muons.  Transverse indicates the x-y plane, so this does not include the momentum in the z-direction.  The z-direction is along the beamline.  Momentum along the beamline is not worked with quite as often as transverse momentum because of how the collisions work.  To have a collision occur, it will be positioned at the radial center of the detector (along the central axis of the cylinder)  Since the beams of protons travel along this axis to collide, there isn't any initial momentum in the x-y plane for the protons pre-collision.  There is some uncertainty about the z momentum of the colliding particles before the collision since there is some uncertainty about what parts of the protons are colliding.  Therefore we use the transverse momentum more than the momentum along the beamline."
   ]
  },
  {
   "cell_type": "markdown",
   "metadata": {},
   "source": [
    "\"eta1\" and \"eta2\" are indications of how far away from the beamline the muons are.  Eta is not an angle (what you might use in most non-detector systems to measure how close to or far away from an axis you are), but something called \"pseudorapidity.\"  Eta ranges from 0 at points perpendicular to the beamline axis to a little over 5 along the beamline.  The distribution of eta is not even over the space like an angle in degrees or radians.  It is defined to have each measurement of eta picked up in approximately the same amount of detector material.  Some useful information on eta is available at http://www.hephy.at/user/friedl/diss/html/node8.html"
   ]
  },
  {
   "cell_type": "markdown",
   "metadata": {},
   "source": [
    "\"phi1\" and \"phi2\" are the phi angles of the muons as normally measured in cylindrical or spherical coordinates and are in radians.  They locate the muon in the x-y plane."
   ]
  },
  {
   "cell_type": "markdown",
   "metadata": {},
   "source": [
    "\"Q1\" and \"Q2\" are the charges of the muons.  They are used to see whether the signs of the muons in the muon pairs are the same sign or opposite sign.  While they have charge equal to plus or minus the charge of an electron, we are more concerned with the sign than the actual size of the charge."
   ]
  },
  {
   "cell_type": "markdown",
   "metadata": {},
   "source": [
    "\"M\" is the total mass of the collision in the lab frame."
   ]
  }
 ],
 "metadata": {
  "kernelspec": {
   "display_name": "Python 3",
   "language": "python",
   "name": "python3"
  },
  "language_info": {
   "codemirror_mode": {
    "name": "ipython",
    "version": 3
   },
   "file_extension": ".py",
   "mimetype": "text/x-python",
   "name": "python",
   "nbconvert_exporter": "python",
   "pygments_lexer": "ipython3",
   "version": "3.7.3"
  }
 },
 "nbformat": 4,
 "nbformat_minor": 2
}
