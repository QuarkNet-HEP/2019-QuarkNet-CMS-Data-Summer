{
 "cells": [
  {
   "cell_type": "markdown",
   "metadata": {},
   "source": [
    "Now that we've seen some basic operations in Python and read in a .csv file, the next logical step is to plot the data in the file in as many permutations as possible to get an idea of what the data looks like.  Knowing what the data looks like will give us insight into what the data means and what things we might want to investigate further."
   ]
  },
  {
   "cell_type": "markdown",
   "metadata": {},
   "source": [
    "While the method of reading in .csv files we used previously was easy and didn't use anything that's not part of standard Python, we'll need to do some more work to make plots with it.  One way to do this is to add the data points to lists as we read them in.  We can't use tuples this time because they are immutable!\n",
    "\n",
    "We'll start by creating blank lists that we'll populate with data later.  We need to preserve the order we had previously to keep the data types straight since we're not relying on the .csv reader to do that for us."
   ]
  },
  {
   "cell_type": "code",
   "execution_count": 13,
   "metadata": {},
   "outputs": [],
   "source": [
    "Type = []\n",
    "RunNo = []\n",
    "EvNo = []\n",
    "E1 = []\n",
    "px1 = []\n",
    "py1 = []\n",
    "pz1 = []\n",
    "pt1 = []\n",
    "eta1 = []\n",
    "phi1 = []\n",
    "Q1 = []\n",
    "E2 = []\n",
    "px2 = []\n",
    "py2 = []\n",
    "pz2 = []\n",
    "pt2 = []\n",
    "eta2 = []\n",
    "phi2 = []\n",
    "Q2 = []\n",
    "M = []"
   ]
  },
  {
   "cell_type": "markdown",
   "metadata": {},
   "source": [
    "Then we want to populate these lists with data from the .csv file."
   ]
  },
  {
   "cell_type": "code",
   "execution_count": 14,
   "metadata": {},
   "outputs": [],
   "source": [
    "import csv\n",
    "\n",
    "with open('dimuon.csv') as csvfile:\n",
    "    READdimu = csv.reader(csvfile, delimiter = ',')\n",
    "    \n",
    "    rowcount = 0\n",
    "    for row in READdimu:\n",
    "        if rowcount > 0:\n",
    "            Type.append(row[0])\n",
    "            RunNo.append(float(row[1]))\n",
    "            EvNo.append(float(row[2]))\n",
    "            E1.append(float(row[3]))\n",
    "            px1.append(float(row[4]))\n",
    "            py1.append(float(row[5]))\n",
    "            pz1.append(float(row[6]))\n",
    "            pt1.append(float(row[7]))\n",
    "            eta1.append(float(row[8]))\n",
    "            phi1.append(float(row[9]))\n",
    "            Q1.append(float(row[10]))\n",
    "            E2.append(float(row[11]))\n",
    "            px2.append(float(row[12]))\n",
    "            py2.append(float(row[13]))\n",
    "            pz2.append(float(row[14]))\n",
    "            pt2.append(float(row[15]))\n",
    "            eta2.append(float(row[16]))\n",
    "            phi2.append(float(row[17]))\n",
    "            Q2.append(float(row[18]))\n",
    "            M.append(float(row[19]))\n",
    "        rowcount = rowcount + 1"
   ]
  },
  {
   "cell_type": "markdown",
   "metadata": {},
   "source": [
    "We will want to use Python to create two kinds of plots, one which you are certainly familiar with and one which you might not be.\n",
    "\n",
    "We'll want to create x-y scatter plots and histograms.  Scatter plots let us see the relationship of one variable to another and decide if that relationship means anything useful to us.  Histograms let us see how many times a certain value of a certain variable occurs in our data and see if the pattern of that variable's variation is has useful meaning.  In some cases we want to do plots using the whole data set with the raw variables we start with.  Sometimes we want to create plots from manipulated data.  We'll see examples of all these things in this notebook."
   ]
  },
  {
   "cell_type": "markdown",
   "metadata": {},
   "source": [
    "We'll start with scatterplots.  This will allow us to plot each of our variables against each of the others to see what relationships exist between them.  Remember that Type isn't graphable data and that RunNo and EvNo are indexing data.  We'll use plotting the x momentum versus the y momentum for muon 1 as an example.\n",
    "\n",
    "This code will label our axes, give us a title, and open the plot in its own window.  If it does not appear above this notebook, check your desktop: it might be there!"
   ]
  },
  {
   "cell_type": "code",
   "execution_count": 15,
   "metadata": {},
   "outputs": [
    {
     "name": "stdout",
     "output_type": "stream",
     "text": [
      "Using matplotlib backend: Qt5Agg\n"
     ]
    }
   ],
   "source": [
    "%matplotlib\n",
    "import matplotlib.pyplot as plt\n",
    "plt.scatter(px1, py1)\n",
    "plt.xlabel('px1')\n",
    "plt.ylabel('py1')\n",
    "plt.title('Muon 1: momentum in x vs. momentum in y')\n",
    "plt.show()"
   ]
  },
  {
   "cell_type": "markdown",
   "metadata": {},
   "source": [
    "Note that there are some handy tools in this window.  You can zoom in on an area of the plot, you can save the plot as a .png file (note that this will not preserve the tools), and you can use the arrows to toggle between views you've chosen."
   ]
  },
  {
   "cell_type": "markdown",
   "metadata": {},
   "source": []
  },
  {
   "cell_type": "code",
   "execution_count": 17,
   "metadata": {},
   "outputs": [],
   "source": [
    "plt.hist(px1, bins='auto')\n",
    "plt.xlabel('px1')\n",
    "plt.title('Muon 1: momentum in x')\n",
    "plt.show()"
   ]
  },
  {
   "cell_type": "code",
   "execution_count": null,
   "metadata": {},
   "outputs": [],
   "source": []
  }
 ],
 "metadata": {
  "kernelspec": {
   "display_name": "Python 3",
   "language": "python",
   "name": "python3"
  },
  "language_info": {
   "codemirror_mode": {
    "name": "ipython",
    "version": 3
   },
   "file_extension": ".py",
   "mimetype": "text/x-python",
   "name": "python",
   "nbconvert_exporter": "python",
   "pygments_lexer": "ipython3",
   "version": "3.7.3"
  }
 },
 "nbformat": 4,
 "nbformat_minor": 2
}
